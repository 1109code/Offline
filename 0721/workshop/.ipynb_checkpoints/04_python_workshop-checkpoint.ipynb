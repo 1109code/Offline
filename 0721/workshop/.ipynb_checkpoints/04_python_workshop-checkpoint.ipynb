{
 "cells": [
  {
   "cell_type": "markdown",
   "id": "a3f6839f",
   "metadata": {},
   "source": [
    "# 1. 간단한 N의 약수 (SWEA #1933)"
   ]
  },
  {
   "cell_type": "code",
   "execution_count": 5,
   "id": "b8a7f2e4",
   "metadata": {},
   "outputs": [
    {
     "name": "stdout",
     "output_type": "stream",
     "text": [
      "10\n",
      "1 2 5 10\n"
     ]
    }
   ],
   "source": [
    "N = int(input())\n",
    "for i in range(1, N//2+1):\n",
    "    if N % i == 0:\n",
    "        print(i, end = ' ')\n",
    "print(N)\n"
   ]
  },
  {
   "cell_type": "markdown",
   "id": "57d26b01",
   "metadata": {},
   "source": [
    "# 2. List의 합 구하기"
   ]
  },
  {
   "cell_type": "code",
   "execution_count": 9,
   "id": "e493ff44",
   "metadata": {},
   "outputs": [
    {
     "data": {
      "text/plain": [
       "15"
      ]
     },
     "execution_count": 9,
     "metadata": {},
     "output_type": "execute_result"
    }
   ],
   "source": [
    "def list_sum(list):\n",
    "    result = 0\n",
    "    for i in list:\n",
    "        result += i\n",
    "    return result"
   ]
  },
  {
   "cell_type": "markdown",
   "id": "0ad0b81a",
   "metadata": {},
   "source": [
    "# 3. Dictionary로 이루어진 List의 합 구하기"
   ]
  },
  {
   "cell_type": "code",
   "execution_count": 19,
   "id": "b4f031c9",
   "metadata": {},
   "outputs": [
    {
     "data": {
      "text/plain": [
       "16"
      ]
     },
     "execution_count": 19,
     "metadata": {},
     "output_type": "execute_result"
    }
   ],
   "source": [
    "def dict_list_sum(dict):\n",
    "    result = 0\n",
    "    for i in dict:\n",
    "        result += i['age']\n",
    "    return result\n",
    "dict_list_sum([{'name': 'kim', 'age': 12}, {'name': 'lee', 'age': 4}])"
   ]
  },
  {
   "cell_type": "markdown",
   "id": "292c39d0",
   "metadata": {},
   "source": [
    "# 4. 2차원 List의 전체 합 구하기"
   ]
  },
  {
   "cell_type": "code",
   "execution_count": 26,
   "id": "e195e07b",
   "metadata": {},
   "outputs": [
    {
     "name": "stdout",
     "output_type": "stream",
     "text": [
      "55\n"
     ]
    }
   ],
   "source": [
    "def all_list_sum(list):\n",
    "    result = 0\n",
    "    \n",
    "    for i in list:\n",
    "        for j in i:\n",
    "            result += j\n",
    "            \n",
    "    return result\n",
    "\n",
    "print(all_list_sum([[1], [2, 3], [4, 5, 6], [7, 8, 9, 10]]))"
   ]
  },
  {
   "cell_type": "markdown",
   "id": "caa14bee",
   "metadata": {},
   "source": [
    "# 5. 숫자의 의미"
   ]
  },
  {
   "cell_type": "code",
   "execution_count": 30,
   "id": "bade4222",
   "metadata": {},
   "outputs": [
    {
     "data": {
      "text/plain": [
       "'SsAfY'"
      ]
     },
     "execution_count": 30,
     "metadata": {},
     "output_type": "execute_result"
    }
   ],
   "source": [
    "def get_secret_word(list):\n",
    "    result = ''\n",
    "    for i in list:\n",
    "        result += chr(i)\n",
    "    return result\n",
    "\n",
    "get_secret_word([83, 115, 65, 102, 89])"
   ]
  },
  {
   "cell_type": "markdown",
   "id": "a34effd2",
   "metadata": {},
   "source": [
    "# 6. 내 이름은 몇일까?"
   ]
  },
  {
   "cell_type": "code",
   "execution_count": 32,
   "id": "b320e8f9",
   "metadata": {},
   "outputs": [
    {
     "data": {
      "text/plain": [
       "546"
      ]
     },
     "execution_count": 32,
     "metadata": {},
     "output_type": "execute_result"
    }
   ],
   "source": [
    "def get_secret_number(word):\n",
    "    result = 0\n",
    "    for i in word:\n",
    "        result += ord(i)\n",
    "    return result\n",
    "\n",
    "get_secret_number('happy')"
   ]
  },
  {
   "cell_type": "markdown",
   "id": "d59fed79",
   "metadata": {},
   "source": [
    "# 7. 강한 이름"
   ]
  },
  {
   "cell_type": "code",
   "execution_count": 42,
   "id": "d549f0ce",
   "metadata": {},
   "outputs": [
    {
     "data": {
      "text/plain": [
       "'delilah'"
      ]
     },
     "execution_count": 42,
     "metadata": {},
     "output_type": "execute_result"
    }
   ],
   "source": [
    "def get_strong_word(word1, word2):\n",
    "    a , b = 0, 0\n",
    "    for i in word1:\n",
    "        a += ord(i)\n",
    "        \n",
    "    for i in word2:\n",
    "        b += ord(i)\n",
    "    if a > b:\n",
    "        return word1 \n",
    "    else:\n",
    "        return word2\n",
    "\n",
    "get_strong_word('z', 'a')\n",
    "get_strong_word('delilah', 'dixon')"
   ]
  },
  {
   "cell_type": "code",
   "execution_count": null,
   "id": "754f3800",
   "metadata": {},
   "outputs": [],
   "source": []
  }
 ],
 "metadata": {
  "kernelspec": {
   "display_name": "Python 3 (ipykernel)",
   "language": "python",
   "name": "python3"
  },
  "language_info": {
   "codemirror_mode": {
    "name": "ipython",
    "version": 3
   },
   "file_extension": ".py",
   "mimetype": "text/x-python",
   "name": "python",
   "nbconvert_exporter": "python",
   "pygments_lexer": "ipython3",
   "version": "3.9.13"
  }
 },
 "nbformat": 4,
 "nbformat_minor": 5
}
