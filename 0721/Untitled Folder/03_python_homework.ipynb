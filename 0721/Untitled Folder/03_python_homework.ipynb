{
 "cells": [
  {
   "cell_type": "markdown",
   "id": "e74c6819",
   "metadata": {},
   "source": [
    "# 1.Built-in 함수\n",
    "* list(), sum(), max(), min(), abs(), divmod(), int()"
   ]
  },
  {
   "cell_type": "markdown",
   "id": "8aa262f4",
   "metadata": {},
   "source": [
    "# 2. 홀수만 담기"
   ]
  },
  {
   "cell_type": "code",
   "execution_count": 4,
   "id": "3f85ee4b",
   "metadata": {},
   "outputs": [
    {
     "name": "stdout",
     "output_type": "stream",
     "text": [
      "[1, 3, 5, 7, 9, 11, 13, 15, 17, 19, 21, 23, 25, 27, 29, 31, 33, 35, 37, 39, 41, 43, 45, 47, 49]\n"
     ]
    }
   ],
   "source": [
    "odd_list = [i for i in range(1, 51, 2)]\n",
    "print(odd_list)    "
   ]
  },
  {
   "cell_type": "markdown",
   "id": "f56e30b8",
   "metadata": {},
   "source": [
    "# 3. 반복문으로 네모 출력"
   ]
  },
  {
   "cell_type": "code",
   "execution_count": 5,
   "id": "d1b6cbda",
   "metadata": {},
   "outputs": [
    {
     "name": "stdout",
     "output_type": "stream",
     "text": [
      "*****\n",
      "*****\n",
      "*****\n",
      "*****\n",
      "*****\n",
      "*****\n",
      "*****\n",
      "*****\n",
      "*****\n"
     ]
    }
   ],
   "source": [
    "n = 5\n",
    "m = 9\n",
    "for i in range(m):\n",
    "    print('*'*n)"
   ]
  },
  {
   "cell_type": "markdown",
   "id": "4ae0e74f",
   "metadata": {},
   "source": [
    "# 4. 조건 표현식"
   ]
  },
  {
   "cell_type": "code",
   "execution_count": 3,
   "id": "75dfafbe",
   "metadata": {},
   "outputs": [
    {
     "name": "stdout",
     "output_type": "stream",
     "text": [
      "입실 가능\n"
     ]
    }
   ],
   "source": [
    "# temp = 36.5\n",
    "# if temp >= 37.5:\n",
    "#     print('입실 불가')\n",
    "# else:\n",
    "#     print('입실 가능')\n",
    "\n",
    "temp = 36.5\n",
    "print('입실 불가') if temp >= 37.5 else print('입실 가능')"
   ]
  },
  {
   "cell_type": "markdown",
   "id": "3a7c018c",
   "metadata": {},
   "source": [
    "# 05. 정중앙 문자"
   ]
  },
  {
   "cell_type": "code",
   "execution_count": 19,
   "id": "f67ec961",
   "metadata": {},
   "outputs": [
    {
     "name": "stdout",
     "output_type": "stream",
     "text": [
      "a\n",
      "di\n"
     ]
    }
   ],
   "source": [
    "def count(word):\n",
    "    c=0\n",
    "    for i in word:\n",
    "       c += 1\n",
    "    return c\n",
    "\n",
    "def get_middle_char(message):\n",
    "    #if count(message)%2  <- True 라서 == 0 안해도 됨!\n",
    "    if count(message)%2==0:\n",
    "        #print(message[count(message)//2-1:count(message)//2+1])\n",
    "        print(message[count(message)//2-1], message[count(message)//2], sep = '')\n",
    "    else:\n",
    "        print(message[count(message)//2])\n",
    "    \n",
    "get_middle_char('ssafy')\n",
    "get_middle_char('coding')"
   ]
  },
  {
   "cell_type": "markdown",
   "id": "7e814b3e",
   "metadata": {},
   "source": [
    "# Pro"
   ]
  },
  {
   "cell_type": "code",
   "execution_count": 15,
   "id": "b3b82f70",
   "metadata": {},
   "outputs": [],
   "source": [
    "a_country = 'honduras'\n",
    "\n",
    "def haley_len_str(a_str):\n",
    "    cnt = 0\n",
    "    for _ in a_str:\n",
    "        cnt += 1\n",
    "    return cnt\n",
    "\n",
    "def haley_len_list(a_list):\n",
    "    cnt = 0\n",
    "    for _ in a_list:\n",
    "        cnt += 1\n",
    "    return cnt"
   ]
  },
  {
   "cell_type": "code",
   "execution_count": 17,
   "id": "76989ef7",
   "metadata": {},
   "outputs": [
    {
     "name": "stdout",
     "output_type": "stream",
     "text": [
      "8\n"
     ]
    }
   ],
   "source": [
    "print(haley_len_str(a_country))"
   ]
  },
  {
   "cell_type": "code",
   "execution_count": 18,
   "id": "87b921d9",
   "metadata": {},
   "outputs": [
    {
     "name": "stdout",
     "output_type": "stream",
     "text": [
      "8\n"
     ]
    }
   ],
   "source": [
    "a_country = list(a_country)\n",
    "print(haley_len_list(a_country))"
   ]
  }
 ],
 "metadata": {
  "kernelspec": {
   "display_name": "Python 3 (ipykernel)",
   "language": "python",
   "name": "python3"
  },
  "language_info": {
   "codemirror_mode": {
    "name": "ipython",
    "version": 3
   },
   "file_extension": ".py",
   "mimetype": "text/x-python",
   "name": "python",
   "nbconvert_exporter": "python",
   "pygments_lexer": "ipython3",
   "version": "3.9.13"
  }
 },
 "nbformat": 4,
 "nbformat_minor": 5
}
