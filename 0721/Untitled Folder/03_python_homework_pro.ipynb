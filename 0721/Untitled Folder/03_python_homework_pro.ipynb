{
 "cells": [
  {
   "cell_type": "markdown",
   "id": "b532152a",
   "metadata": {},
   "source": [
    "# 2. 홀수만 담기"
   ]
  },
  {
   "cell_type": "code",
   "execution_count": 3,
   "id": "7156f3c7",
   "metadata": {},
   "outputs": [
    {
     "name": "stdout",
     "output_type": "stream",
     "text": [
      "[1, 3, 5, 7, 9, 11, 13, 15, 17, 19, 21, 23, 25, 27, 29, 31, 33, 35, 37, 39, 41, 43, 45, 47, 49]\n"
     ]
    }
   ],
   "source": [
    "# for i in range(1, 51):\n",
    "#     if i % 2 == 1:\n",
    "        \n",
    "a = list(range(1,51))\n",
    "# answer = a[0:-1:2]\n",
    "answer = a[::2]\n",
    "print(answer)"
   ]
  },
  {
   "cell_type": "markdown",
   "id": "be79a738",
   "metadata": {},
   "source": [
    "# 3. 반복문으로 네모 출력"
   ]
  },
  {
   "cell_type": "code",
   "execution_count": 4,
   "id": "657a2469",
   "metadata": {},
   "outputs": [
    {
     "name": "stdout",
     "output_type": "stream",
     "text": [
      "*****\n",
      "*****\n",
      "*****\n",
      "*****\n",
      "*****\n",
      "*****\n",
      "*****\n",
      "*****\n",
      "*****\n"
     ]
    }
   ],
   "source": [
    "width = 5\n",
    "height = 9\n",
    "\n",
    "for h in range(height):\n",
    "    for w in range(width):\n",
    "        print('*', end = '')\n",
    "    print()"
   ]
  },
  {
   "cell_type": "code",
   "execution_count": null,
   "id": "ac3912cf",
   "metadata": {},
   "outputs": [],
   "source": []
  }
 ],
 "metadata": {
  "kernelspec": {
   "display_name": "Python 3 (ipykernel)",
   "language": "python",
   "name": "python3"
  },
  "language_info": {
   "codemirror_mode": {
    "name": "ipython",
    "version": 3
   },
   "file_extension": ".py",
   "mimetype": "text/x-python",
   "name": "python",
   "nbconvert_exporter": "python",
   "pygments_lexer": "ipython3",
   "version": "3.9.13"
  }
 },
 "nbformat": 4,
 "nbformat_minor": 5
}
