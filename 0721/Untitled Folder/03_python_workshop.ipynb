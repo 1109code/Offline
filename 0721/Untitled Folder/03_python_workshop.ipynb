{
 "cells": [
  {
   "cell_type": "markdown",
   "id": "f985666f",
   "metadata": {},
   "source": [
    "# 1. 세로로 출력하기"
   ]
  },
  {
   "cell_type": "code",
   "execution_count": 3,
   "id": "773c2e5c",
   "metadata": {},
   "outputs": [
    {
     "name": "stdout",
     "output_type": "stream",
     "text": [
      "10\n",
      "1\n",
      "2\n",
      "3\n",
      "4\n",
      "5\n",
      "6\n",
      "7\n",
      "8\n",
      "9\n",
      "10\n"
     ]
    }
   ],
   "source": [
    "number = int(input())\n",
    "\n",
    "for i in range(1,number+1):\n",
    "    print(i)"
   ]
  },
  {
   "cell_type": "markdown",
   "id": "bbdc09fb",
   "metadata": {},
   "source": [
    "# 2. 가로로 출력하기"
   ]
  },
  {
   "cell_type": "code",
   "execution_count": 1,
   "id": "4fef9c80",
   "metadata": {},
   "outputs": [
    {
     "name": "stdout",
     "output_type": "stream",
     "text": [
      "10\n",
      "1 2 3 4 5 6 7 8 9 10 "
     ]
    }
   ],
   "source": [
    "number = int(input())\n",
    "for i in range(1, number+1):\n",
    "    print(i, end = ' ')"
   ]
  },
  {
   "cell_type": "markdown",
   "id": "0f0fede3",
   "metadata": {},
   "source": [
    "# Pro"
   ]
  },
  {
   "cell_type": "code",
   "execution_count": 3,
   "id": "ec900794",
   "metadata": {},
   "outputs": [
    {
     "name": "stdout",
     "output_type": "stream",
     "text": [
      "10\n",
      "1,2,3,4,5,6,7,8,9,10\n"
     ]
    }
   ],
   "source": [
    "number = int(input())\n",
    "for i in range(1, number+1):\n",
    "    if i == number:\n",
    "        print(i)\n",
    "    else:\n",
    "        print(i, end = ',')"
   ]
  },
  {
   "cell_type": "markdown",
   "id": "283df782",
   "metadata": {},
   "source": [
    "# 3. 거꾸로 세로로 출력하기"
   ]
  },
  {
   "cell_type": "code",
   "execution_count": 5,
   "id": "6b8a012f",
   "metadata": {},
   "outputs": [
    {
     "name": "stdout",
     "output_type": "stream",
     "text": [
      "5\n",
      "5\n",
      "4\n",
      "3\n",
      "2\n",
      "1\n",
      "0\n"
     ]
    }
   ],
   "source": [
    "number = int(input())\n",
    "for i in range(number, -1, -1):\n",
    "    print(i)"
   ]
  },
  {
   "cell_type": "markdown",
   "id": "baf2f2b2",
   "metadata": {},
   "source": [
    "# 4. 거꾸로 출력해 보아요 (SWEA #1545)"
   ]
  },
  {
   "cell_type": "code",
   "execution_count": 5,
   "id": "1bee1cfe",
   "metadata": {},
   "outputs": [
    {
     "name": "stdout",
     "output_type": "stream",
     "text": [
      "5\n",
      "5 4 3 2 1 0\n"
     ]
    }
   ],
   "source": [
    "number = int(input())\n",
    "for i in range(number, -1, -1):\n",
    "    if i == 0:\n",
    "        print(i)\n",
    "    else:\n",
    "        print(i, end = ' ')"
   ]
  },
  {
   "cell_type": "markdown",
   "id": "58fd1212",
   "metadata": {},
   "source": [
    "# 5. N줄 덧셈 (SWEA #2025)"
   ]
  },
  {
   "cell_type": "code",
   "execution_count": 8,
   "id": "854b1a77",
   "metadata": {},
   "outputs": [
    {
     "name": "stdout",
     "output_type": "stream",
     "text": [
      "10\n",
      "55\n"
     ]
    }
   ],
   "source": [
    "number = int(input())\n",
    "\n",
    "sum = 0\n",
    "\n",
    "for i in range(number+1):\n",
    "    sum+=i\n",
    "    \n",
    "print(sum)"
   ]
  },
  {
   "cell_type": "code",
   "execution_count": 7,
   "id": "0e4533c4",
   "metadata": {},
   "outputs": [],
   "source": [
    "def haley_sum(a_range):\n",
    "    sum = 0\n",
    "    for i in range(number+1):\n",
    "        sum+=i\n",
    "    print(sum)\n"
   ]
  },
  {
   "cell_type": "code",
   "execution_count": 14,
   "id": "d9edb317",
   "metadata": {},
   "outputs": [
    {
     "name": "stdout",
     "output_type": "stream",
     "text": [
      "10\n"
     ]
    }
   ],
   "source": [
    "number = int(input())"
   ]
  },
  {
   "cell_type": "code",
   "execution_count": 15,
   "id": "ee035835",
   "metadata": {},
   "outputs": [
    {
     "data": {
      "text/plain": [
       "[1, 2, 3, 4, 5, 6, 7, 8, 9, 10]"
      ]
     },
     "execution_count": 15,
     "metadata": {},
     "output_type": "execute_result"
    }
   ],
   "source": [
    "my_range = list(range(1, number + 1))\n",
    "my_range"
   ]
  },
  {
   "cell_type": "code",
   "execution_count": 16,
   "id": "2444f40b",
   "metadata": {},
   "outputs": [
    {
     "name": "stdout",
     "output_type": "stream",
     "text": [
      "55\n"
     ]
    }
   ],
   "source": [
    "haley_sum(my_range)"
   ]
  },
  {
   "cell_type": "code",
   "execution_count": 21,
   "id": "977b2dac",
   "metadata": {},
   "outputs": [],
   "source": [
    "def haley_sum():\n",
    "    number = int(input())\n",
    "    sum = 0\n",
    "    for i in range(number+1):\n",
    "        sum+=i\n",
    "    return sum\n"
   ]
  },
  {
   "cell_type": "code",
   "execution_count": 22,
   "id": "549e710d",
   "metadata": {},
   "outputs": [
    {
     "name": "stdout",
     "output_type": "stream",
     "text": [
      "10\n",
      "55\n"
     ]
    }
   ],
   "source": [
    "answer = haley_sum()\n",
    "print(answer)"
   ]
  },
  {
   "cell_type": "markdown",
   "id": "2354a5c9",
   "metadata": {},
   "source": [
    "# 6. 삼각형 출력하기"
   ]
  },
  {
   "cell_type": "code",
   "execution_count": 9,
   "id": "5e9d724d",
   "metadata": {
    "scrolled": true
   },
   "outputs": [
    {
     "name": "stdout",
     "output_type": "stream",
     "text": [
      "7\n",
      "      *\n",
      "     **\n",
      "    ***\n",
      "   ****\n",
      "  *****\n",
      " ******\n",
      "*******\n"
     ]
    }
   ],
   "source": [
    "number = int(input())\n",
    "\n",
    "for i in range(number):\n",
    "    print(' '*(number-(i+1))+'*'*(i+1))"
   ]
  },
  {
   "cell_type": "markdown",
   "id": "2842d42e",
   "metadata": {},
   "source": [
    "# Pro"
   ]
  },
  {
   "cell_type": "code",
   "execution_count": 26,
   "id": "fc466a2f",
   "metadata": {},
   "outputs": [
    {
     "name": "stdout",
     "output_type": "stream",
     "text": [
      "7\n",
      "       *\n",
      "      **\n",
      "     ***\n",
      "    ****\n",
      "   *****\n",
      "  ******\n",
      " *******\n"
     ]
    }
   ],
   "source": [
    "N = int(input())\n",
    "\n",
    "for n in range(1, N + 1):\n",
    "    for m in range(N - n, -1, -1):\n",
    "        print(' ', end = '')\n",
    "    print('*'*n)"
   ]
  },
  {
   "cell_type": "markdown",
   "id": "114c4030",
   "metadata": {},
   "source": [
    "# 7. 중간값 찾기 (SWEA #2063 변형)"
   ]
  },
  {
   "cell_type": "code",
   "execution_count": null,
   "id": "5d04b9ae",
   "metadata": {},
   "outputs": [],
   "source": [
    "numbers = [\n",
    "    85, 72, 38, 80, 69, 65, 68, 96, 22, 49, 67,\n",
    "    51, 61, 63, 87, 66, 24, 80, 83, 71, 60, 64,\n",
    "    52, 90, 60, 49, 31, 23, 99, 94, 11, 25, 24,\n",
    "]\n",
    "def count(list):\n",
    "    c = 0\n",
    "    for i in numbers:\n",
    "        c+=1\n",
    "    return c\n",
    "\n",
    "def order(list):\n",
    "    length = count(list)\n",
    "    for i in range(1, length):\n",
    "        change = list[i]\n",
    "        k = i\n",
    "        while change < list[k-1]:\n",
    "            k -= 1\n",
    "\n",
    "        temp = list[i]\n",
    "        list[i] = list[k]\n",
    "        list[k] = temp\n",
    "\n",
    "for i in range(count(numbers)):\n",
    "    order(numbers)\n",
    "    \n",
    "print(numbers[count(numbers)//2])    "
   ]
  }
 ],
 "metadata": {
  "kernelspec": {
   "display_name": "Python 3 (ipykernel)",
   "language": "python",
   "name": "python3"
  },
  "language_info": {
   "codemirror_mode": {
    "name": "ipython",
    "version": 3
   },
   "file_extension": ".py",
   "mimetype": "text/x-python",
   "name": "python",
   "nbconvert_exporter": "python",
   "pygments_lexer": "ipython3",
   "version": "3.9.13"
  }
 },
 "nbformat": 4,
 "nbformat_minor": 5
}
